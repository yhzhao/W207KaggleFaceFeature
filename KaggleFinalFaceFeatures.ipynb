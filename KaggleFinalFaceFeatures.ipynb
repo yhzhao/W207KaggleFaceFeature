{
 "cells": [
  {
   "cell_type": "markdown",
   "metadata": {},
   "source": [
    "# Final Project: Facial Keypoints Detection"
   ]
  },
  {
   "cell_type": "markdown",
   "metadata": {},
   "source": [
    "https://www.kaggle.com/c/facial-keypoints-detection\n",
    "https://www.kaggle.com/c/facial-keypoints-detection/data"
   ]
  },
  {
   "cell_type": "code",
   "execution_count": 20,
   "metadata": {
    "collapsed": false
   },
   "outputs": [],
   "source": [
    "# This tells matplotlib not to try opening a new window for each plot.\n",
    "%matplotlib inline\n",
    "\n",
    "from numpy import genfromtxt\n",
    "\n",
    "# Import a bunch of libraries.\n",
    "import time\n",
    "import numpy as np\n",
    "import matplotlib.pyplot as plt\n",
    "from matplotlib.ticker import MultipleLocator\n",
    "from sklearn.pipeline import Pipeline\n",
    "from sklearn.datasets import fetch_mldata\n",
    "from sklearn.neighbors import KNeighborsClassifier\n",
    "from sklearn.metrics import confusion_matrix\n",
    "from sklearn.linear_model import LinearRegression\n",
    "from sklearn.naive_bayes import BernoulliNB\n",
    "from sklearn.naive_bayes import MultinomialNB\n",
    "from sklearn.naive_bayes import GaussianNB\n",
    "from sklearn.grid_search import GridSearchCV\n",
    "from sklearn.metrics import classification_report\n",
    "\n",
    "# Set the randomizer seed so results are the same each time.\n",
    "np.random.seed(0)"
   ]
  },
  {
   "cell_type": "markdown",
   "metadata": {},
   "source": [
    "Load data from current directory."
   ]
  },
  {
   "cell_type": "code",
   "execution_count": 2,
   "metadata": {
    "collapsed": false
   },
   "outputs": [
    {
     "name": "stdout",
     "output_type": "stream",
     "text": [
      "['left_eye_center_x', 'left_eye_center_y', 'right_eye_center_x', 'right_eye_center_y', 'left_eye_inner_corner_x', 'left_eye_inner_corner_y', 'left_eye_outer_corner_x', 'left_eye_outer_corner_y', 'right_eye_inner_corner_x', 'right_eye_inner_corner_y', 'right_eye_outer_corner_x', 'right_eye_outer_corner_y', 'left_eyebrow_inner_end_x', 'left_eyebrow_inner_end_y', 'left_eyebrow_outer_end_x', 'left_eyebrow_outer_end_y', 'right_eyebrow_inner_end_x', 'right_eyebrow_inner_end_y', 'right_eyebrow_outer_end_x', 'right_eyebrow_outer_end_y', 'nose_tip_x', 'nose_tip_y', 'mouth_left_corner_x', 'mouth_left_corner_y', 'mouth_right_corner_x', 'mouth_right_corner_y', 'mouth_center_top_lip_x', 'mouth_center_top_lip_y', 'mouth_center_bottom_lip_x', 'mouth_center_bottom_lip_y']\n",
      "30\n"
     ]
    }
   ],
   "source": [
    "D = 96\n",
    "\n",
    "# get headers\n",
    "\n",
    "tmp = open(\"training.csv\", \"r\")\n",
    "keyPointNames = tmp.readline().split(\",\")[:-1]\n",
    "tmp.close()\n",
    "\n",
    "print keyPointNames\n",
    "print len(keyPointNames)\n",
    "\n",
    "#f = open(\"experiment.csv\")\n",
    "#experiment_target = np.genfromtxt((\" \".join(ln.split(\",\")[len(keyPointNames):]) for ln in f), dtype=None, skip_header = 1)\n",
    "\n",
    "#print experiment_target.shape\n",
    "#experiment_img = np.genfromtxt((\" \".join(ln.split(\",\")[-1:]) for ln in f), dtype=None, skip_header = 1)\n",
    "\n",
    "#experiment = genfromtxt(\"experiment.csv\", skip_header = 1, dtype=None, usecols=range(0,2))\n",
    "#print experiment_target"
   ]
  },
  {
   "cell_type": "code",
   "execution_count": 3,
   "metadata": {
    "collapsed": false
   },
   "outputs": [
    {
     "name": "stdout",
     "output_type": "stream",
     "text": [
      "(7049, 30)\n",
      "(7049, 9216)\n",
      "[238 236 237 ...,  70  75  90]\n"
     ]
    }
   ],
   "source": [
    "# Import training data\n",
    "# On my laptop, the following read takes a few minutes.\n",
    "\n",
    "f = open(\"training.csv\")\n",
    "\n",
    "# Use | to handle missing value between ,,\n",
    "train_target = genfromtxt((\"|\".join(ln.split(\",\")[:-1]) for ln in f), dtype=None, skip_header = 1, delimiter=\"|\")\n",
    "f.seek(0)\n",
    "train_img = genfromtxt((\"|\".join(ln.split(\",\")[len(keyPointNames):]) for ln in f), dtype=None, skip_header = 1)\n",
    "f.close()\n",
    "\n",
    "print train_target.shape\n",
    "print train_img.shape\n",
    "\n",
    "print train_img[0]"
   ]
  },
  {
   "cell_type": "code",
   "execution_count": 4,
   "metadata": {
    "collapsed": false
   },
   "outputs": [
    {
     "name": "stdout",
     "output_type": "stream",
     "text": [
      "(1783,)\n",
      "(1783, 9216)\n",
      "[182 183 182 ...,   8   5   5]\n"
     ]
    }
   ],
   "source": [
    "# Import testing data\n",
    "\n",
    "f = open(\"test.csv\")\n",
    "\n",
    "# Use | to handle missing value between ,,\n",
    "test_img_id = genfromtxt((\"|\".join(ln.split(\",\")[:-1]) for ln in f), dtype=None, skip_header = 1, delimiter=\"|\")\n",
    "f.seek(0)\n",
    "test_img = genfromtxt((\"|\".join(ln.split(\",\")[1:]) for ln in f), dtype=None, skip_header = 1)\n",
    "f.close()\n",
    "\n",
    "print test_img_id.shape\n",
    "print test_img.shape\n",
    "\n",
    "print test_img[0]"
   ]
  },
  {
   "cell_type": "code",
   "execution_count": 18,
   "metadata": {
    "collapsed": false
   },
   "outputs": [
    {
     "name": "stdout",
     "output_type": "stream",
     "text": [
      "7049\n",
      "(6000, 9216)\n",
      "(1049, 9216)\n"
     ]
    }
   ],
   "source": [
    "# Split training data into training and dev\n",
    "\n",
    "print train_img.shape[0]\n",
    "shuffle = np.random.permutation(np.arange(train_img.shape[0]))\n",
    "train_target, train_img = train_target[shuffle], train_img[shuffle]\n",
    "\n",
    "DIVIDE = 6000\n",
    "\n",
    "train_data, train_labels = train_img[:DIVIDE], train_target[:DIVIDE]\n",
    "dev_data, dev_labels = train_img[DIVIDE:], train_target[DIVIDE:]\n",
    "\n",
    "print train_data.shape\n",
    "print dev_data.shape"
   ]
  },
  {
   "cell_type": "code",
   "execution_count": 17,
   "metadata": {
    "collapsed": false
   },
   "outputs": [
    {
     "name": "stdout",
     "output_type": "stream",
     "text": [
      "[107  72  61 ...,  46  47  52]\n"
     ]
    },
    {
     "data": {
      "image/png": "[encoded data removed]",
      "text/plain": [
       "<matplotlib.figure.Figure at 0x10cd1c150>"
      ]
     },
     "metadata": {},
     "output_type": "display_data"
    }
   ],
   "source": [
    "# Function to display the image\n",
    "\n",
    "def showImg(src = train_data, id=0):\n",
    "    print src[id]\n",
    "    plt.imshow(src[id].reshape(D, D), cmap = plt.get_cmap('gray'), vmin = 0, vmax = 255)\n",
    "    \n",
    "showImg(id=1900)"
   ]
  },
  {
   "cell_type": "markdown",
   "metadata": {},
   "source": [
    "A simple benchmark:\n",
    "\n",
    "We can take the mean of the train_labels, which are the mean coordinates of each keypoint in the training set, and we can use that as the prediction for all images. "
   ]
  },
  {
   "cell_type": "code",
   "execution_count": 36,
   "metadata": {
    "collapsed": false
   },
   "outputs": [
    {
     "name": "stdout",
     "output_type": "stream",
     "text": [
      "[ 66.34524881  37.65832996  30.28566747  37.98227619  59.15010659\n",
      "  37.92566029  73.26950093  37.6810067   36.6289125   37.98906755\n",
      "  22.40139116  38.02513338  56.01333834  29.36186458  79.42998218\n",
      "  29.73389752  39.26940115  29.520095    15.87295604  30.42791113\n",
      "  48.32712817  62.73957299  63.24676122  75.93883542  32.91156208\n",
      "  76.17501789  47.9700698   72.90255447  48.53794331  78.99563944]\n"
     ]
    }
   ],
   "source": [
    "# Benchmark\n",
    "# https://www.kaggle.com/c/facial-keypoints-detection/details/getting-started-with-r\n",
    "\n",
    "benchmarkLabel = np.nanmean(train_labels, axis=0)\n",
    "print benchmarkLabel\n",
    "\n",
    "# print np.reshape(benchmarkLabel, (30, 1))\n",
    "\n",
    "# # Open submission\n",
    "# f = open(\"SampleSubmission.csv\")\n",
    "# # Use | to handle missing value between ,,\n",
    "# submission = genfromtxt((\"|\".join(ln.split(\",\")[:-1]) for ln in f), dtype=None, skip_header = 1, delimiter=\"|\")\n",
    "# f.close()\n",
    "\n",
    "# print submission.shape"
   ]
  },
  {
   "cell_type": "code",
   "execution_count": null,
   "metadata": {
    "collapsed": true
   },
   "outputs": [],
   "source": []
  }
 ],
 "metadata": {
  "celltoolbar": "Raw Cell Format",
  "kernelspec": {
   "display_name": "Python 2",
   "language": "python",
   "name": "python2"
  },
  "language_info": {
   "codemirror_mode": {
    "name": "ipython",
    "version": 2
   },
   "file_extension": ".py",
   "mimetype": "text/x-python",
   "name": "python",
   "nbconvert_exporter": "python",
   "pygments_lexer": "ipython2",
   "version": "2.7.11"
  }
 },
 "nbformat": 4,
 "nbformat_minor": 0
}
